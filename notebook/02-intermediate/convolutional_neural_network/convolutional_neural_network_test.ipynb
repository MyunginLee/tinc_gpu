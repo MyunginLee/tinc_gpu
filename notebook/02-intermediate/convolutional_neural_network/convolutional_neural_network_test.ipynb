{
 "cells": [
  {
   "cell_type": "code",
   "execution_count": 1,
   "metadata": {},
   "outputs": [
    {
     "name": "stdout",
     "output_type": "stream",
     "text": [
      "False cpu\n",
      "1.13.1\n"
     ]
    }
   ],
   "source": [
    "import torch \n",
    "import torch.nn as nn\n",
    "import torchvision\n",
    "import torchvision.transforms as transforms\n",
    "\n",
    "\n",
    "# Device configuration\n",
    "device = torch.device('cuda:0' if torch.cuda.is_available() else 'cpu')\n",
    "print(torch.cuda.is_available(), device)\n",
    "print(torch.__version__)\n"
   ]
  },
  {
   "cell_type": "code",
   "execution_count": 2,
   "metadata": {},
   "outputs": [],
   "source": [
    "# Hyper parameters\n",
    "num_epochs = 5\n",
    "num_classes = 10\n",
    "batch_size = 100\n",
    "learning_rate = 0.001"
   ]
  },
  {
   "cell_type": "code",
   "execution_count": 3,
   "metadata": {},
   "outputs": [],
   "source": [
    "# MNIST dataset\n",
    "train_dataset = torchvision.datasets.MNIST(root='../../data/',\n",
    "                                           train=True, \n",
    "                                           transform=transforms.ToTensor(),\n",
    "                                           download=True)\n",
    "\n",
    "test_dataset = torchvision.datasets.MNIST(root='../../data/',\n",
    "                                          train=False, \n",
    "                                          transform=transforms.ToTensor())\n",
    "\n",
    "# Data loader\n",
    "train_loader = torch.utils.data.DataLoader(dataset=train_dataset,\n",
    "                                           batch_size=batch_size, \n",
    "                                           shuffle=True)\n",
    "\n",
    "test_loader = torch.utils.data.DataLoader(dataset=test_dataset,\n",
    "                                          batch_size=batch_size, \n",
    "                                          shuffle=False)"
   ]
  },
  {
   "cell_type": "raw",
   "metadata": {},
   "source": [
    "\"\"\"\n",
    "nn.Sequential:\n",
    "# Example of using Sequential\n",
    " |      model = nn.Sequential(\n",
    " |                nn.Conv2d(1,20,5),\n",
    " |                nn.ReLU(),\n",
    " |                nn.Conv2d(20,64,5),\n",
    " |                nn.ReLU()\n",
    " |              )\n",
    " |  \n",
    " |      # Example of using Sequential with OrderedDict\n",
    " |      model = nn.Sequential(OrderedDict([\n",
    " |                ('conv1', nn.Conv2d(1,20,5)),\n",
    " |                ('relu1', nn.ReLU()),\n",
    " |                ('conv2', nn.Conv2d(20,64,5)),\n",
    " |                ('relu2', nn.ReLU())\n",
    " |              ]))\n",
    "\"\"\""
   ]
  },
  {
   "cell_type": "raw",
   "metadata": {},
   "source": [
    "\"\"\"Difference between nn.ReLU and F.relu?\n",
    "import torch.nn as nn\n",
    "import torch.nn.functional as F\n",
    "difference between nn.ReLU and F.relu\n",
    "https://discuss.pytorch.org/t/how-to-choose-between-torch-nn-functional-and-torch-nn-module/2800\n",
    "In PyTorch you define your Models as subclasses of torch.nn.Module.\n",
    "In the __init__ function, you are supposed to initialize the layers you want to use. \n",
    "    Unlike keras, Pytorch goes more low level and you have to specify the sizes of your network \n",
    "    so that everything matches.\n",
    "In the forward method, you specify the connections of your layers. \n",
    "    This means that you will use the layers you already initialized, in order to re-use the same layer \n",
    "    for each forward pass of data you make.\n",
    "torch.nn.Functional contains some useful functions like activation functions a convolution operations you can use. \n",
    "    However, these are not full layers so if you want to specify a layer of any kind you should use torch.nn.Module.\n",
    "You would use the torch.nn.Functional conv operations to define a custom layer \n",
    "    for example with a convolution operation, but not to define a standard convolution layer.\n",
    "\"\"\""
   ]
  },
  {
   "cell_type": "code",
   "execution_count": 4,
   "metadata": {},
   "outputs": [],
   "source": [
    "# Convolutional neural network (two convolutional layers)\n",
    "\"\"\"nn.Conv2d(in_channels, out_channels, kernel_size)\"\"\"\n",
    "\"\"\"nn.BatchNorm2d(num_features): num_features is just number of input channels\"\"\"\n",
    "\"\"\"nn.Linear(in_features, out_features)\"\"\"\n",
    "class ConvNet(nn.Module):\n",
    "    def __init__(self, num_classes=10):\n",
    "        super(ConvNet, self).__init__()\n",
    "        # input shape: (None,1,28,28)\n",
    "        self.layer1 = nn.Sequential(\n",
    "            nn.Conv2d(1, 16, kernel_size=5, stride=1, padding=2), #output shape: (None,16,28,28)\n",
    "            nn.BatchNorm2d(16),\n",
    "            nn.ReLU(),\n",
    "            nn.MaxPool2d(kernel_size=2, stride=2)) #output shape: (None,16,14,14)\n",
    "        self.layer2 = nn.Sequential(\n",
    "            nn.Conv2d(16, 32, kernel_size=5, stride=1, padding=2), #output shape: (None,32,14,14)\n",
    "            nn.BatchNorm2d(32),\n",
    "            nn.ReLU(),\n",
    "            nn.MaxPool2d(kernel_size=2, stride=2)) #output shape: (None,32,7,7)\n",
    "        self.fc = nn.Linear(7*7*32, num_classes)\n",
    "        \n",
    "    def forward(self, x):\n",
    "        # input shape: (None,1,28,28)\n",
    "        out = self.layer1(x) #output shape: (None,16,14,14)\n",
    "        out = self.layer2(out) #output shape: (None,32,7,7)\n",
    "        \"\"\"The reshape function also consider the 0th, i.e. batch dimension, different from Keras.Reshape!\"\"\"\n",
    "        out = out.reshape(out.size(0), -1) #output shape: (None,32*7*7)\n",
    "        out = self.fc(out) #output shape: (None,10)\n",
    "        return out\n",
    "\n",
    "model = ConvNet(num_classes).to(device)"
   ]
  },
  {
   "cell_type": "code",
   "execution_count": 5,
   "metadata": {},
   "outputs": [
    {
     "name": "stdout",
     "output_type": "stream",
     "text": [
      "Epoch [1/5], Step [100/600], Loss: 0.1330\n",
      "Epoch [1/5], Step [200/600], Loss: 0.0593\n",
      "Epoch [1/5], Step [300/600], Loss: 0.0385\n",
      "Epoch [1/5], Step [400/600], Loss: 0.0894\n",
      "Epoch [1/5], Step [500/600], Loss: 0.0807\n",
      "Epoch [1/5], Step [600/600], Loss: 0.0940\n",
      "Epoch [2/5], Step [100/600], Loss: 0.0412\n",
      "Epoch [2/5], Step [200/600], Loss: 0.1250\n",
      "Epoch [2/5], Step [300/600], Loss: 0.0341\n",
      "Epoch [2/5], Step [400/600], Loss: 0.0742\n",
      "Epoch [2/5], Step [500/600], Loss: 0.0187\n",
      "Epoch [2/5], Step [600/600], Loss: 0.0347\n",
      "Epoch [3/5], Step [100/600], Loss: 0.0379\n",
      "Epoch [3/5], Step [200/600], Loss: 0.0600\n",
      "Epoch [3/5], Step [300/600], Loss: 0.0139\n",
      "Epoch [3/5], Step [400/600], Loss: 0.0507\n",
      "Epoch [3/5], Step [500/600], Loss: 0.0237\n",
      "Epoch [3/5], Step [600/600], Loss: 0.0635\n",
      "Epoch [4/5], Step [100/600], Loss: 0.1111\n",
      "Epoch [4/5], Step [200/600], Loss: 0.0170\n",
      "Epoch [4/5], Step [300/600], Loss: 0.0440\n",
      "Epoch [4/5], Step [400/600], Loss: 0.0123\n",
      "Epoch [4/5], Step [500/600], Loss: 0.0031\n",
      "Epoch [4/5], Step [600/600], Loss: 0.0084\n",
      "Epoch [5/5], Step [100/600], Loss: 0.0099\n",
      "Epoch [5/5], Step [200/600], Loss: 0.0027\n",
      "Epoch [5/5], Step [300/600], Loss: 0.0365\n",
      "Epoch [5/5], Step [400/600], Loss: 0.0339\n",
      "Epoch [5/5], Step [500/600], Loss: 0.0082\n",
      "Epoch [5/5], Step [600/600], Loss: 0.0313\n"
     ]
    }
   ],
   "source": [
    "# Loss and optimizer\n",
    "criterion = nn.CrossEntropyLoss()\n",
    "optimizer = torch.optim.Adam(model.parameters(), lr=learning_rate)\n",
    "\n",
    "# Train the model\n",
    "total_step = len(train_loader)\n",
    "for epoch in range(num_epochs):\n",
    "    for i, (images, labels) in enumerate(train_loader):\n",
    "        \"\"\"PyTorch is channel first, different from TensorFlow!\"\"\"\n",
    "        \"\"\"images.size(): torch.Size([100, 1, 28, 28])\"\"\"\n",
    "        images = images.to(device)\n",
    "        labels = labels.to(device)\n",
    "        \n",
    "        # Forward pass\n",
    "        outputs = model(images)\n",
    "        loss = criterion(outputs, labels)\n",
    "        \n",
    "        # Backward and optimize\n",
    "        optimizer.zero_grad()\n",
    "        loss.backward()\n",
    "        optimizer.step()\n",
    "        \n",
    "        if (i+1) % 100 == 0:\n",
    "            print ('Epoch [{}/{}], Step [{}/{}], Loss: {:.4f}' \n",
    "                   .format(epoch+1, num_epochs, i+1, total_step, loss.item()))"
   ]
  },
  {
   "cell_type": "code",
   "execution_count": 6,
   "metadata": {},
   "outputs": [
    {
     "name": "stdout",
     "output_type": "stream",
     "text": [
      "Test Accuracy of the model on the 10000 test images: 99.0 %\n"
     ]
    }
   ],
   "source": [
    "# Test the model\n",
    "model.eval()  # eval mode (batchnorm uses moving mean/variance instead of mini-batch mean/variance)\n",
    "# has effect on specific layers like Dropout and BatchNorm\n",
    "with torch.no_grad():\n",
    "    correct = 0\n",
    "    total = 0\n",
    "    for images, labels in test_loader:\n",
    "        images = images.to(device)\n",
    "        labels = labels.to(device)\n",
    "        outputs = model(images)\n",
    "        #Tensor.data: tensor\n",
    "        _, predicted = torch.max(outputs.data, 1)\n",
    "        #Tensor.size(): torch.Size, Tensor.size(0): int\n",
    "        total += labels.size(0)\n",
    "        #Tensor.item(): number\n",
    "        correct += (predicted == labels).sum().item()\n",
    "\n",
    "    print('Test Accuracy of the model on the 10000 test images: {} %'.format(100 * correct / total))\n",
    "\n",
    "\n",
    "# nn.Module.state_dict(): collections.OrderedDict\n",
    "\"\"\"\n",
    "model.state_dict().keys(): odict_keys([\n",
    " #Conv2d\n",
    "'layer1.0.weight', 'layer1.0.bias',\n",
    " #BatchNorm2d\n",
    "'layer1.1.weight', 'layer1.1.bias', 'layer1.1.running_mean', 'layer1.1.running_var', 'layer1.1.num_batches_tracked',\n",
    " #Conv2d\n",
    "'layer2.0.weight', 'layer2.0.bias', \n",
    " #BatchNorm2d\n",
    " 'layer2.1.weight', 'layer2.1.bias', 'layer2.1.running_mean', 'layer2.1.running_var', 'layer2.1.num_batches_tracked', \n",
    " #Linear\n",
    " 'fc.weight', 'fc.bias'])\n",
    "\"\"\"\n",
    "# Save the model checkpoint\n",
    "torch.save(model.state_dict(), 'model.ckpt')"
   ]
  },
  {
   "cell_type": "code",
   "execution_count": null,
   "metadata": {},
   "outputs": [],
   "source": []
  }
 ],
 "metadata": {
  "kernelspec": {
   "display_name": "Python 3.7.6 ('base')",
   "language": "python",
   "name": "python3"
  },
  "language_info": {
   "codemirror_mode": {
    "name": "ipython",
    "version": 3
   },
   "file_extension": ".py",
   "mimetype": "text/x-python",
   "name": "python",
   "nbconvert_exporter": "python",
   "pygments_lexer": "ipython3",
   "version": "3.7.6"
  },
  "vscode": {
   "interpreter": {
    "hash": "f7e1e6ad09d196a93f40716548eb447094128ac28363ee78c20c7751b30b0cbc"
   }
  }
 },
 "nbformat": 4,
 "nbformat_minor": 2
}
