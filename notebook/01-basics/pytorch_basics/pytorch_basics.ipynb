{
 "cells": [
  {
   "cell_type": "code",
   "execution_count": 1,
   "metadata": {},
   "outputs": [],
   "source": [
    "import torch #The torch package contains data structures for multi-dimensional tensors and mathematical operations over these are defined.\n",
    "import torchvision #The torchvision package consists of popular datasets, model architectures, and common image transformations for computer vision.\n",
    "import torch.nn as nn\n",
    "import numpy as np\n",
    "import torchvision.transforms as transforms\n",
    "\n",
    "\n",
    "# ================================================================== #\n",
    "#                         Table of Contents                          #\n",
    "# ================================================================== #\n",
    "\n",
    "# 1. Basic autograd example 1               (Line 25 to 39)\n",
    "# 2. Basic autograd example 2               (Line 46 to 83)\n",
    "# 3. Loading data from numpy                (Line 90 to 97)\n",
    "# 4. Input pipline                          (Line 104 to 129)\n",
    "# 5. Input pipline for custom dataset       (Line 136 to 156)\n",
    "# 6. Pretrained model                       (Line 163 to 176)\n",
    "# 7. Save and load model                    (Line 183 to 189) "
   ]
  },
  {
   "cell_type": "code",
   "execution_count": 2,
   "metadata": {},
   "outputs": [
    {
     "name": "stdout",
     "output_type": "stream",
     "text": [
      "tensor(2.)\n",
      "tensor(1.)\n",
      "tensor(1.)\n"
     ]
    }
   ],
   "source": [
    "# ================================================================== #\n",
    "#                     1. Basic autograd example 1                    #\n",
    "# ================================================================== #\n",
    "\n",
    "# Create tensors.\n",
    "x = torch.tensor(1., requires_grad=True)\n",
    "w = torch.tensor(2., requires_grad=True)\n",
    "b = torch.tensor(3., requires_grad=True)\n",
    "\n",
    "# Build a computational graph.\n",
    "y = w * x + b    # y = 2 * x + 3\n",
    "\n",
    "# Compute gradients.\n",
    "\"\"\"\n",
    "If we set x, w, b 's required_grad = False, there will be an error:\n",
    "RuntimeError: element 0 of tensors does not require grad and does not have a grad_fn\n",
    "\"\"\"\n",
    "y.backward()\n",
    "\n",
    "# Print out the gradients.\n",
    "\"\"\"\n",
    "type(x): torch.Tensor\n",
    "type(x.grad): torch.Tensor\n",
    "\"\"\"\n",
    "print(x.grad)    # x.grad = 2 \n",
    "print(w.grad)    # w.grad = 1 \n",
    "print(b.grad)    # b.grad = 1 "
   ]
  },
  {
   "cell_type": "code",
   "execution_count": 3,
   "metadata": {},
   "outputs": [
    {
     "name": "stdout",
     "output_type": "stream",
     "text": [
      "w:  Parameter containing:\n",
      "tensor([[ 0.2032, -0.0122, -0.0504],\n",
      "        [-0.5185, -0.0977,  0.5375]], requires_grad=True)\n",
      "b:  Parameter containing:\n",
      "tensor([ 0.5232, -0.1430], requires_grad=True)\n",
      "loss:  1.7934141159057617\n",
      "dL/dw:  tensor([[-0.0347, -0.5567,  0.1363],\n",
      "        [ 0.1165, -0.3818,  0.8964]])\n",
      "dL/db:  tensor([ 0.7697, -0.6838])\n",
      "loss after 1 step optimization:  1.7700774669647217\n"
     ]
    }
   ],
   "source": [
    "# ================================================================== #\n",
    "#                    2. Basic autograd example 2                     #\n",
    "# ================================================================== #\n",
    "\n",
    "# Create tensors of shape (10, 3) and (10, 2).\n",
    "x = torch.randn(10, 3)\n",
    "y = torch.randn(10, 2)\n",
    "\n",
    "# Build a fully connected layer.\n",
    "linear = nn.Linear(3, 2) #type: torch.nn.modules.linear.Linear\n",
    "print ('w: ', linear.weight) #type: torch.nn.parameter.Parameter\n",
    "print ('b: ', linear.bias) #type: torch.nn.parameter.Parameter\n",
    "\n",
    "# Build loss function and optimizer.\n",
    "criterion = nn.MSELoss() #type: torch.nn.modules.loss.MSELoss\n",
    "optimizer = torch.optim.SGD(linear.parameters(), lr=0.01) #torch.optim.sgd.SGD\n",
    "\n",
    "# Forward pass.\n",
    "pred = linear(x)\n",
    "\n",
    "# Compute loss.\n",
    "loss = criterion(pred, y)\n",
    "print('loss: ', loss.item())\n",
    "\n",
    "# Backward pass.\\\n",
    "\"\"\"\n",
    "Computes the gradient of current tensor w.r.t. graph leaves.\n",
    "This function accumulates gradients in the leaves - you might need to\n",
    "    zero them before calling it!\n",
    "\"\"\"\n",
    "loss.backward()\n",
    "\n",
    "# Print out the gradients.\n",
    "print ('dL/dw: ', linear.weight.grad) \n",
    "print ('dL/db: ', linear.bias.grad)\n",
    "\n",
    "if False:\n",
    "    # 1-step gradient descent.\n",
    "    \"\"\"Performs a single optimization step.\"\"\"\n",
    "    #adapted from https://pytorch.org/docs/stable/optim.html\n",
    "    #loss.backward() possibly redundant\n",
    "    def closure():\n",
    "        optimizer.zero_grad()\n",
    "        pred = linear(x)\n",
    "        loss = criterion(pred, y)\n",
    "        #loss.backward()\n",
    "        return loss\n",
    "    # torch.optim.sgd.SGD.step()'s argument closure: \n",
    "    #  A closure that reevaluates the model and returns the loss.\n",
    "    loss_from_step = optimizer.step(closure=closure)\n",
    "    print('loss from step', loss_from_step)\n",
    "else:\n",
    "    # You can also perform gradient descent at the low level.\n",
    "    linear.weight.data.sub_(0.01 * linear.weight.grad.data)\n",
    "    linear.bias.data.sub_(0.01 * linear.bias.grad.data)\n",
    "\n",
    "# Print out the loss after 1-step gradient descent.\n",
    "pred = linear(x)\n",
    "loss = criterion(pred, y)\n",
    "\"\"\"Use torch.Tensor.item() to get python number\"\"\"\n",
    "\"\"\"(torch.Tensor.data returns a torch.Tensor)\"\"\"\n",
    "print('loss after 1 step optimization: ', loss.item())"
   ]
  },
  {
   "cell_type": "code",
   "execution_count": 4,
   "metadata": {},
   "outputs": [
    {
     "name": "stdout",
     "output_type": "stream",
     "text": [
      "a: tensor(2) b: tensor(1)\n",
      "a-b using sub tensor(1)\n",
      "after sub a: tensor(2) b: tensor(1)\n",
      "a-b using sub_ tensor(1)\n",
      "after sub_ a: tensor(1) b: tensor(1)\n"
     ]
    }
   ],
   "source": [
    "\"\"\"\n",
    "Difference between sub and sub_\n",
    "\"\"\"\n",
    "a = torch.tensor(2)\n",
    "b = torch.tensor(1)\n",
    "print('a:',a,'b:',b)\n",
    "print('a-b using sub', a.data.sub(b))\n",
    "print('after sub', 'a:', a, 'b:', b)\n",
    "print('a-b using sub_', a.data.sub_(b))\n",
    "print('after sub_', 'a:', a, 'b:', b) #sub_ is inplace version"
   ]
  },
  {
   "cell_type": "code",
   "execution_count": 5,
   "metadata": {},
   "outputs": [
    {
     "name": "stdout",
     "output_type": "stream",
     "text": [
      "y: tensor([[1, 2],\n",
      "        [3, 4]])\n",
      "z: [[1 2]\n",
      " [3 4]]\n",
      "x equals to z!\n"
     ]
    }
   ],
   "source": [
    "# ================================================================== #\n",
    "#                     3. Loading data from numpy                     #\n",
    "# ================================================================== #\n",
    "\n",
    "# Create a numpy array.\n",
    "x = np.array([[1, 2], [3, 4]])\n",
    "\n",
    "# Convert the numpy array to a torch tensor.\n",
    "y = torch.from_numpy(x)\n",
    "print('y:', y)\n",
    "\n",
    "# Convert the torch tensor to a numpy array.\n",
    "z = y.numpy()\n",
    "print('z:', z)\n",
    "if np.all(x==z):\n",
    "    print('x equals to z!')"
   ]
  },
  {
   "cell_type": "code",
   "execution_count": 6,
   "metadata": {},
   "outputs": [
    {
     "name": "stdout",
     "output_type": "stream",
     "text": [
      "Files already downloaded and verified\n",
      "image size: torch.Size([3, 32, 32])\n",
      "label: 6\n",
      "images size: torch.Size([64, 3, 32, 32])\n",
      "labels: tensor([8, 8, 7, 0, 8, 7, 0, 2, 9, 2, 9, 5, 0, 3, 6, 3, 8, 1, 3, 4, 3, 9, 2, 2,\n",
      "        8, 0, 1, 4, 2, 2, 8, 5, 9, 3, 2, 8, 5, 0, 6, 5, 0, 7, 3, 2, 7, 3, 4, 5,\n",
      "        2, 3, 4, 2, 5, 6, 3, 0, 1, 1, 1, 8, 7, 1, 7, 8])\n"
     ]
    }
   ],
   "source": [
    "# ================================================================== #\n",
    "#                         4. Input pipline                           #\n",
    "# ================================================================== #\n",
    "\n",
    "# Download and construct CIFAR-10 dataset.\n",
    "train_dataset = torchvision.datasets.CIFAR10(root='../../data/',\n",
    "                                             train=True, \n",
    "                                             transform=transforms.ToTensor(),\n",
    "                                             download=True)\n",
    "\n",
    "# Fetch one data pair (read data from disk).\n",
    "image, label = train_dataset[0]\n",
    "print ('image size:', image.size())\n",
    "print ('label:', label)\n",
    "\n",
    "# Data loader (this provides queues and threads in a very simple way).\n",
    "train_loader = torch.utils.data.DataLoader(dataset=train_dataset,\n",
    "                                           batch_size=64, \n",
    "                                           shuffle=True)\n",
    "\n",
    "# When iteration starts, queue and thread start to load data from files.\n",
    "data_iter = iter(train_loader)\n",
    "\n",
    "# Mini-batch images and labels.\n",
    "images, labels = data_iter.next()\n",
    "print('images size:', images.size())\n",
    "print('labels:', labels)\n",
    "\n",
    "# Actual usage of the data loader is as below.\n",
    "for images, labels in train_loader:\n",
    "    # Training code should be written here.\n",
    "    pass"
   ]
  },
  {
   "cell_type": "code",
   "execution_count": null,
   "metadata": {},
   "outputs": [],
   "source": [
    "# This cannot be run!\n",
    "# ================================================================== #\n",
    "#                5. Input pipline for custom dataset                 #\n",
    "# ================================================================== #\n",
    "\n",
    "# You should your build your custom dataset as below.\n",
    "class CustomDataset(torch.utils.data.Dataset):\n",
    "    def __init__(self):\n",
    "        # TODO\n",
    "        # 1. Initialize file paths or a list of file names. \n",
    "        pass\n",
    "    def __getitem__(self, index):\n",
    "        # TODO\n",
    "        # 1. Read one data from file (e.g. using numpy.fromfile, PIL.Image.open).\n",
    "        # 2. Preprocess the data (e.g. torchvision.Transform).\n",
    "        # 3. Return a data pair (e.g. image and label).\n",
    "        pass\n",
    "    def __len__(self):\n",
    "        # You should change 0 to the total size of your dataset.\n",
    "        return 0 \n",
    "\n",
    "# You can then use the prebuilt data loader. \n",
    "custom_dataset = CustomDataset()\n",
    "train_loader = torch.utils.data.DataLoader(dataset=custom_dataset,\n",
    "                                           batch_size=64, \n",
    "                                           shuffle=True)"
   ]
  },
  {
   "cell_type": "code",
   "execution_count": 7,
   "metadata": {},
   "outputs": [
    {
     "name": "stdout",
     "output_type": "stream",
     "text": [
      "torch.Size([64, 100])\n"
     ]
    }
   ],
   "source": [
    "# ================================================================== #\n",
    "#                        6. Pretrained model                         #\n",
    "# ================================================================== #\n",
    "\n",
    "# Download and load the pretrained ResNet-18.\n",
    "# resnet18 architecture here: https://github.com/szagoruyko/functional-zoo/blob/master/resnet-18-export.ipynb\n",
    "resnet = torchvision.models.resnet18(pretrained=True)\n",
    "\n",
    "# If you want to finetune only the top layer of the model, set as below.\n",
    "for param in resnet.parameters():\n",
    "    param.requires_grad = False\n",
    "\n",
    "# Replace the top layer for finetuning.\n",
    "# resnet.fc.in_features: 512\n",
    "resnet.fc = nn.Linear(resnet.fc.in_features, 100)  # 100 is an example.\n",
    "\n",
    "# Forward pass.\n",
    "images = torch.randn(64, 3, 224, 224)\n",
    "outputs = resnet(images)\n",
    "print (outputs.size())     # (64, 100)"
   ]
  },
  {
   "cell_type": "code",
   "execution_count": 8,
   "metadata": {},
   "outputs": [],
   "source": [
    "# ================================================================== #\n",
    "#                      7. Save and load the model                    #\n",
    "# ================================================================== #\n",
    "\n",
    "# Save and load the entire model.\n",
    "torch.save(resnet, 'model.ckpt')\n",
    "model = torch.load('model.ckpt')\n",
    "\n",
    "# Save and load only the model parameters (recommended).\n",
    "torch.save(resnet.state_dict(), 'params.ckpt')\n",
    "resnet.load_state_dict(torch.load('params.ckpt'))"
   ]
  },
  {
   "cell_type": "code",
   "execution_count": null,
   "metadata": {},
   "outputs": [],
   "source": []
  }
 ],
 "metadata": {
  "kernelspec": {
   "display_name": "Python 3",
   "language": "python",
   "name": "python3"
  },
  "language_info": {
   "codemirror_mode": {
    "name": "ipython",
    "version": 3
   },
   "file_extension": ".py",
   "mimetype": "text/x-python",
   "name": "python",
   "nbconvert_exporter": "python",
   "pygments_lexer": "ipython3",
   "version": "3.6.5"
  }
 },
 "nbformat": 4,
 "nbformat_minor": 2
}
