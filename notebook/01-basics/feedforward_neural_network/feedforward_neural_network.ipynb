{
 "cells": [
  {
   "cell_type": "code",
   "execution_count": null,
   "metadata": {},
   "outputs": [
    {
     "ename": "",
     "evalue": "",
     "output_type": "error",
     "traceback": [
      "\u001b[1;31mRunning cells with 'Python 3.7.13 64-bit' requires ipykernel package.\n",
      "Run the following command to install 'ipykernel' into the Python environment. \n",
      "Command: '/usr/bin/python3.7 -m pip install ipykernel -U --user --force-reinstall'"
     ]
    }
   ],
   "source": [
    "import torch\n",
    "import torch.nn as nn\n",
    "import torchvision\n",
    "import torchvision.transforms as transforms\n",
    "\n",
    "\n",
    "# Device configuration\n",
    "device = torch.device('cuda' if torch.cuda.is_available() else 'cpu')\n",
    "\n",
    "# Hyper-parameters \n",
    "input_size = 784\n",
    "hidden_size = 500\n",
    "num_classes = 10\n",
    "num_epochs = 5\n",
    "batch_size = 100\n",
    "learning_rate = 0.001"
   ]
  },
  {
   "cell_type": "code",
   "execution_count": 2,
   "metadata": {},
   "outputs": [
    {
     "data": {
      "text/plain": [
       "True"
      ]
     },
     "execution_count": 2,
     "metadata": {},
     "output_type": "execute_result"
    }
   ],
   "source": [
    "torch.cuda.is_available()"
   ]
  },
  {
   "cell_type": "code",
   "execution_count": 3,
   "metadata": {},
   "outputs": [
    {
     "name": "stdout",
     "output_type": "stream",
     "text": [
      "device properties: _CudaDeviceProperties(name='Tesla V100-SXM2-32GB', major=7, minor=0, total_memory=32502MB, multi_processor_count=80)\n",
      "device count: 2\n"
     ]
    }
   ],
   "source": [
    "print('device properties:', torch.cuda.get_device_properties(0)) #can be 0~torch.cuda.device_count()-1\n",
    "print('device count:', torch.cuda.device_count())"
   ]
  },
  {
   "cell_type": "code",
   "execution_count": 4,
   "metadata": {},
   "outputs": [],
   "source": [
    "# MNIST dataset \n",
    "train_dataset = torchvision.datasets.MNIST(root='../../data', \n",
    "                                           train=True, \n",
    "                                           transform=transforms.ToTensor(),  \n",
    "                                           download=True)\n",
    "\n",
    "test_dataset = torchvision.datasets.MNIST(root='../../data', \n",
    "                                          train=False, \n",
    "                                          transform=transforms.ToTensor())\n",
    "\n",
    "# Data loader\n",
    "train_loader = torch.utils.data.DataLoader(dataset=train_dataset, \n",
    "                                           batch_size=batch_size, \n",
    "                                           shuffle=True)\n",
    "\n",
    "test_loader = torch.utils.data.DataLoader(dataset=test_dataset, \n",
    "                                          batch_size=batch_size, \n",
    "                                          shuffle=False)"
   ]
  },
  {
   "cell_type": "code",
   "execution_count": 5,
   "metadata": {},
   "outputs": [
    {
     "name": "stdout",
     "output_type": "stream",
     "text": [
      "Parameter containing:\n",
      "tensor([[-0.0296,  0.0275,  0.0136,  ...,  0.0286,  0.0252,  0.0215],\n",
      "        [ 0.0140, -0.0282, -0.0238,  ..., -0.0155,  0.0353, -0.0355],\n",
      "        [ 0.0090, -0.0312,  0.0236,  ...,  0.0159,  0.0317,  0.0126],\n",
      "        ...,\n",
      "        [ 0.0246,  0.0286,  0.0017,  ..., -0.0235, -0.0090,  0.0258],\n",
      "        [ 0.0233, -0.0357,  0.0156,  ...,  0.0336, -0.0284,  0.0288],\n",
      "        [ 0.0173, -0.0182, -0.0280,  ...,  0.0077,  0.0042,  0.0346]],\n",
      "       requires_grad=True)\n",
      "Parameter containing:\n",
      "tensor([[-0.0296,  0.0275,  0.0136,  ...,  0.0286,  0.0252,  0.0215],\n",
      "        [ 0.0140, -0.0282, -0.0238,  ..., -0.0155,  0.0353, -0.0355],\n",
      "        [ 0.0090, -0.0312,  0.0236,  ...,  0.0159,  0.0317,  0.0126],\n",
      "        ...,\n",
      "        [ 0.0246,  0.0286,  0.0017,  ..., -0.0235, -0.0090,  0.0258],\n",
      "        [ 0.0233, -0.0357,  0.0156,  ...,  0.0336, -0.0284,  0.0288],\n",
      "        [ 0.0173, -0.0182, -0.0280,  ...,  0.0077,  0.0042,  0.0346]],\n",
      "       device='cuda:0', requires_grad=True)\n"
     ]
    }
   ],
   "source": [
    "# Fully connected neural network with one hidden layer\n",
    "class NeuralNet(nn.Module):\n",
    "    def __init__(self, input_size, hidden_size, num_classes):\n",
    "        super(NeuralNet, self).__init__()\n",
    "        self.fc1 = nn.Linear(input_size, hidden_size) \n",
    "        self.relu = nn.ReLU()\n",
    "        self.fc2 = nn.Linear(hidden_size, num_classes)  \n",
    "    \n",
    "    def forward(self, x):\n",
    "        out = self.fc1(x)\n",
    "        out = self.relu(out)\n",
    "        out = self.fc2(out)\n",
    "        return out\n",
    "\n",
    "\"\"\"\n",
    "model_cpu.children(): generator\n",
    "list(model_cpu.children()): \n",
    "[Linear(in_features=784, out_features=500, bias=True),\n",
    " ReLU(),\n",
    " Linear(in_features=500, out_features=10, bias=True)]\n",
    "\"\"\"\n",
    "model_cpu = NeuralNet(input_size, hidden_size, num_classes)\n",
    "print(list(model_cpu.children())[0].weight)\n",
    "\"\"\"\n",
    "model_cpu.to(device, dtype or tensor)\n",
    "\"\"\"\n",
    "model = model_cpu.to(device)\n",
    "print(list(model.children())[0].weight)"
   ]
  },
  {
   "cell_type": "raw",
   "metadata": {},
   "source": [
    "\"\"\"\n",
    "            >>> linear = nn.Linear(2, 2)\n",
    " |          >>> linear.weight\n",
    " |          Parameter containing:\n",
    " |          tensor([[ 0.1913, -0.3420],\n",
    " |                  [-0.5113, -0.2325]])\n",
    " |          >>> linear.to(torch.double)\n",
    " |          Linear(in_features=2, out_features=2, bias=True)\n",
    " |          >>> linear.weight\n",
    " |          Parameter containing:\n",
    " |          tensor([[ 0.1913, -0.3420],\n",
    " |                  [-0.5113, -0.2325]], dtype=torch.float64)\n",
    " |          >>> gpu1 = torch.device(\"cuda:1\")\n",
    " |          >>> linear.to(gpu1, dtype=torch.half, non_blocking=True)\n",
    " |          Linear(in_features=2, out_features=2, bias=True)\n",
    " |          >>> linear.weight\n",
    " |          Parameter containing:\n",
    " |          tensor([[ 0.1914, -0.3420],\n",
    " |                  [-0.5112, -0.2324]], dtype=torch.float16, device='cuda:1')\n",
    " |          >>> cpu = torch.device(\"cpu\")\n",
    " |          >>> linear.to(cpu)\n",
    " |          Linear(in_features=2, out_features=2, bias=True)\n",
    " |          >>> linear.weight\n",
    " |          Parameter containing:\n",
    " |          tensor([[ 0.1914, -0.3420],\n",
    " |                  [-0.5112, -0.2324]], dtype=torch.float16)\n",
    "\"\"\""
   ]
  },
  {
   "cell_type": "code",
   "execution_count": 6,
   "metadata": {},
   "outputs": [],
   "source": [
    "# Loss and optimizer\n",
    "criterion = nn.CrossEntropyLoss()\n",
    "optimizer = torch.optim.Adam(model.parameters(), lr=learning_rate)  "
   ]
  },
  {
   "cell_type": "code",
   "execution_count": 7,
   "metadata": {},
   "outputs": [
    {
     "name": "stdout",
     "output_type": "stream",
     "text": [
      "Epoch [1/5], Step [100/600], Loss: 0.3901\n",
      "Epoch [1/5], Step [200/600], Loss: 0.2135\n",
      "Epoch [1/5], Step [300/600], Loss: 0.1688\n",
      "Epoch [1/5], Step [400/600], Loss: 0.1252\n",
      "Epoch [1/5], Step [500/600], Loss: 0.1077\n",
      "Epoch [1/5], Step [600/600], Loss: 0.1319\n",
      "Epoch [2/5], Step [100/600], Loss: 0.1955\n",
      "Epoch [2/5], Step [200/600], Loss: 0.1654\n",
      "Epoch [2/5], Step [300/600], Loss: 0.2031\n",
      "Epoch [2/5], Step [400/600], Loss: 0.1387\n",
      "Epoch [2/5], Step [500/600], Loss: 0.1193\n",
      "Epoch [2/5], Step [600/600], Loss: 0.0847\n",
      "Epoch [3/5], Step [100/600], Loss: 0.0274\n",
      "Epoch [3/5], Step [200/600], Loss: 0.1189\n",
      "Epoch [3/5], Step [300/600], Loss: 0.0786\n",
      "Epoch [3/5], Step [400/600], Loss: 0.1031\n",
      "Epoch [3/5], Step [500/600], Loss: 0.0316\n",
      "Epoch [3/5], Step [600/600], Loss: 0.1281\n",
      "Epoch [4/5], Step [100/600], Loss: 0.0952\n",
      "Epoch [4/5], Step [200/600], Loss: 0.0358\n",
      "Epoch [4/5], Step [300/600], Loss: 0.0378\n",
      "Epoch [4/5], Step [400/600], Loss: 0.0395\n",
      "Epoch [4/5], Step [500/600], Loss: 0.0175\n",
      "Epoch [4/5], Step [600/600], Loss: 0.0817\n",
      "Epoch [5/5], Step [100/600], Loss: 0.0339\n",
      "Epoch [5/5], Step [200/600], Loss: 0.1078\n",
      "Epoch [5/5], Step [300/600], Loss: 0.0322\n",
      "Epoch [5/5], Step [400/600], Loss: 0.0213\n",
      "Epoch [5/5], Step [500/600], Loss: 0.0142\n",
      "Epoch [5/5], Step [600/600], Loss: 0.0531\n"
     ]
    }
   ],
   "source": [
    "# Train the model\n",
    "total_step = len(train_loader) #=len(train_dataset)/batch_size\n",
    "for epoch in range(num_epochs):\n",
    "    for i, (images, labels) in enumerate(train_loader):  \n",
    "        # Move tensors to the configured device\n",
    "        \"\"\"\n",
    "        If we omit .to(device) after the following two variables, it will give\n",
    "        RuntimeError: Expected object of backend CUDA but got backend CPU for argument #4 'mat1'\n",
    "        \"\"\"\n",
    "        images = images.reshape(-1, 28*28).to(device)\n",
    "        labels = labels.to(device)\n",
    "        \n",
    "        # Forward pass\n",
    "        outputs = model(images)\n",
    "        loss = criterion(outputs, labels)\n",
    "        \n",
    "        # Backward and optimize\n",
    "        optimizer.zero_grad()\n",
    "        loss.backward()\n",
    "        optimizer.step()\n",
    "        \n",
    "        if (i+1) % (total_step/6) == 0:\n",
    "            print ('Epoch [{}/{}], Step [{}/{}], Loss: {:.4f}' \n",
    "                   .format(epoch+1, num_epochs, i+1, total_step, loss.item()))"
   ]
  },
  {
   "cell_type": "code",
   "execution_count": 8,
   "metadata": {},
   "outputs": [
    {
     "name": "stdout",
     "output_type": "stream",
     "text": [
      "Accuracy of the network on the 10000 test images: 97.96 %\n"
     ]
    }
   ],
   "source": [
    "# Test the model\n",
    "# In test phase, we don't need to compute gradients (for memory efficiency)\n",
    "\"\"\"\n",
    "torch.no_grad: Context-manager that disabled gradient calculation.\n",
    "\"\"\"\n",
    "with torch.no_grad():\n",
    "    correct = 0\n",
    "    total = 0\n",
    "    for images, labels in test_loader:\n",
    "        images = images.reshape(-1, 28*28).to(device)\n",
    "        labels = labels.to(device)\n",
    "        outputs = model(images)\n",
    "        \"\"\"\n",
    "        max_value, index_of_max_value = torch.max(input, dim)\n",
    "        input: tensor\n",
    "        dim: int\n",
    "        \"\"\"\n",
    "        \"\"\"The results from torch.max(outputs,1) and torch.max(outputs.data, 1) are the same\"\"\"\n",
    "        _, predicted = torch.max(outputs.data, 1)\n",
    "#         _, predicted = torch.max(outputs, 1)\n",
    "        \"\"\"\n",
    "        labels.size(): torch.Size\n",
    "        labels.size(0): int\n",
    "        \"\"\"\n",
    "        total += labels.size(0)\n",
    "        \"\"\"(predicted==labels) returns a dytpe=torch.uint8 tensor\"\"\"\n",
    "        \"\"\"tensor.item(): get number from a tensor\"\"\"\n",
    "        correct += (predicted == labels).sum().item()\n",
    "\n",
    "    print('Accuracy of the network on the 10000 test images: {} %'.format(100 * correct / total))\n",
    "\n",
    "# Save the model checkpoint\n",
    "torch.save(model.state_dict(), 'model.ckpt')"
   ]
  },
  {
   "cell_type": "code",
   "execution_count": null,
   "metadata": {},
   "outputs": [],
   "source": []
  }
 ],
 "metadata": {
  "kernelspec": {
   "display_name": "Python 3.7.13 64-bit",
   "language": "python",
   "name": "python3"
  },
  "language_info": {
   "codemirror_mode": {
    "name": "ipython",
    "version": 3
   },
   "file_extension": ".py",
   "mimetype": "text/x-python",
   "name": "python",
   "nbconvert_exporter": "python",
   "pygments_lexer": "ipython3",
   "version": "3.7.13"
  },
  "vscode": {
   "interpreter": {
    "hash": "fd69f43f58546b570e94fd7eba7b65e6bcc7a5bbc4eab0408017d18902915d69"
   }
  }
 },
 "nbformat": 4,
 "nbformat_minor": 2
}
