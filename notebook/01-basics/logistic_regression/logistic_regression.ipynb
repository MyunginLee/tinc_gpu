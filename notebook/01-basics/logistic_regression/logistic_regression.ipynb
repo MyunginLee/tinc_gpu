{
 "cells": [
  {
   "cell_type": "code",
   "execution_count": 1,
   "metadata": {},
   "outputs": [],
   "source": [
    "import torch\n",
    "import torch.nn as nn\n",
    "import torchvision #containing: datasets, models, transforms, utils\n",
    "import torchvision.transforms as transforms\n",
    "\n",
    "\n",
    "# Hyper-parameters \n",
    "input_size = 784\n",
    "num_classes = 10\n",
    "num_epochs = 5\n",
    "batch_size = 100\n",
    "learning_rate = 0.001"
   ]
  },
  {
   "cell_type": "code",
   "execution_count": 2,
   "metadata": {},
   "outputs": [
    {
     "name": "stdout",
     "output_type": "stream",
     "text": [
      "data count: 60000\n"
     ]
    }
   ],
   "source": [
    "\"\"\"\n",
    "torchvision.datasets: containing\n",
    "    cifar\n",
    "    coco\n",
    "    fakedata\n",
    "    folder\n",
    "    lsun\n",
    "    mnist\n",
    "    omniglot\n",
    "    phototour\n",
    "    semeion\n",
    "    stl10\n",
    "    svhn\n",
    "    utils\n",
    "\"\"\"\n",
    "# MNIST dataset (images and labels)\n",
    "\"\"\"\n",
    "torchvision.datasets.MNIST:\n",
    "root (string): Root directory of dataset where ``processed/training.pt``\n",
    "           and  ``processed/test.pt`` exist.\n",
    "train (bool, optional): If True, creates dataset from ``training.pt``,\n",
    "           otherwise from ``test.pt``.\n",
    "download (bool, optional): If true, downloads the dataset from the internet and\n",
    "           puts it in root directory. If dataset is already downloaded, it is not\n",
    "           downloaded again.\n",
    "transform (callable, optional): A function/transform that  takes in an PIL image\n",
    "           and returns a transformed version. E.g, ``transforms.RandomCrop``\n",
    "target_transform (callable, optional): A function/transform that takes in the\n",
    "           target and transforms it.\n",
    "\"\"\"\n",
    "\"\"\"\n",
    "train_dataset.train_data.shape: torch.Size([60000, 28, 28])\n",
    "train_dataset.train_labels.shape: torch.Size([60000])\n",
    "\"\"\"\n",
    "# in this example, train_dataset.train_data, train_dataset.train_labels are still tensor even if transofrm is disabled\n",
    "# but when iterating train_loader, it throws TypeError: batch must contain tensors, numbers, dicts or lists; found <class 'PIL.Image.Image'>\n",
    "train_dataset = torchvision.datasets.MNIST(root='../../data', \n",
    "                                           train=True, \n",
    "                                           transform=transforms.ToTensor(),\n",
    "                                           download=True)\n",
    "\n",
    "test_dataset = torchvision.datasets.MNIST(root='../../data', \n",
    "                                          train=False, \n",
    "                                          transform=transforms.ToTensor()\n",
    "                                         )\n",
    "\n",
    "print('data count:', len(train_dataset.train_data))"
   ]
  },
  {
   "cell_type": "code",
   "execution_count": 3,
   "metadata": {},
   "outputs": [],
   "source": [
    "# Data loader (input pipeline)\n",
    "train_loader = torch.utils.data.DataLoader(dataset=train_dataset, \n",
    "                                           batch_size=batch_size, \n",
    "                                           shuffle=True)\n",
    "\n",
    "test_loader = torch.utils.data.DataLoader(dataset=test_dataset, \n",
    "                                          batch_size=batch_size, \n",
    "                                          shuffle=False)"
   ]
  },
  {
   "cell_type": "code",
   "execution_count": 4,
   "metadata": {},
   "outputs": [],
   "source": [
    "# Logistic regression model\n",
    "model = nn.Linear(input_size, num_classes)\n",
    "\n",
    "# Loss and optimizer\n",
    "# nn.CrossEntropyLoss() computes softmax internally\n",
    "criterion = nn.CrossEntropyLoss()  \n",
    "optimizer = torch.optim.SGD(model.parameters(), lr=learning_rate)  "
   ]
  },
  {
   "cell_type": "code",
   "execution_count": 5,
   "metadata": {},
   "outputs": [
    {
     "data": {
      "text/plain": [
       "tensor(0.9130)"
      ]
     },
     "execution_count": 5,
     "metadata": {},
     "output_type": "execute_result"
    }
   ],
   "source": [
    "\"\"\"torch.nn.modules.loss.CrossEntropyLoss\n",
    " `input` has to be a Tensor of size either :math:`(minibatch, C)` or\n",
    " |  :math:`(minibatch, C, d_1, d_2, ..., d_K)`\n",
    " |  with :math:`K \\geq 2` for the `K`-dimensional case (described later).\n",
    " |  \n",
    " |  This criterion expects a class index (0 to `C-1`) as the\n",
    " |  `target` for each value of a 1D tensor of size `minibatch`\n",
    "Note: input should be size: [batch_size, num_class]\n",
    "Note: target should be size: [batch_size]\n",
    "Note: target should be type torch.LongTensor. (of type torch.IntTensor will not work)\n",
    "\"\"\"\n",
    "\n",
    "#input: logits for different class\n",
    "#target: the correct class id\n",
    "criterion(torch.Tensor([[0.3,0.7]]), torch.Tensor([0]).type(torch.LongTensor))"
   ]
  },
  {
   "cell_type": "code",
   "execution_count": 6,
   "metadata": {},
   "outputs": [
    {
     "name": "stdout",
     "output_type": "stream",
     "text": [
      "Epoch [1/5], Step [100/600], Loss: 2.1669\n",
      "Epoch [1/5], Step [200/600], Loss: 2.0458\n",
      "Epoch [1/5], Step [300/600], Loss: 1.9931\n",
      "Epoch [1/5], Step [400/600], Loss: 1.9159\n",
      "Epoch [1/5], Step [500/600], Loss: 1.8161\n",
      "Epoch [1/5], Step [600/600], Loss: 1.7303\n",
      "Epoch [2/5], Step [100/600], Loss: 1.6953\n",
      "Epoch [2/5], Step [200/600], Loss: 1.7030\n",
      "Epoch [2/5], Step [300/600], Loss: 1.5779\n",
      "Epoch [2/5], Step [400/600], Loss: 1.5470\n",
      "Epoch [2/5], Step [500/600], Loss: 1.5059\n",
      "Epoch [2/5], Step [600/600], Loss: 1.5085\n",
      "Epoch [3/5], Step [100/600], Loss: 1.4243\n",
      "Epoch [3/5], Step [200/600], Loss: 1.2968\n",
      "Epoch [3/5], Step [300/600], Loss: 1.3385\n",
      "Epoch [3/5], Step [400/600], Loss: 1.3625\n",
      "Epoch [3/5], Step [500/600], Loss: 1.2788\n",
      "Epoch [3/5], Step [600/600], Loss: 1.2409\n",
      "Epoch [4/5], Step [100/600], Loss: 1.2629\n",
      "Epoch [4/5], Step [200/600], Loss: 1.2518\n",
      "Epoch [4/5], Step [300/600], Loss: 1.2384\n",
      "Epoch [4/5], Step [400/600], Loss: 1.0889\n",
      "Epoch [4/5], Step [500/600], Loss: 1.1904\n",
      "Epoch [4/5], Step [600/600], Loss: 1.0840\n",
      "Epoch [5/5], Step [100/600], Loss: 1.0616\n",
      "Epoch [5/5], Step [200/600], Loss: 1.1350\n",
      "Epoch [5/5], Step [300/600], Loss: 1.0155\n",
      "Epoch [5/5], Step [400/600], Loss: 0.9543\n",
      "Epoch [5/5], Step [500/600], Loss: 1.0269\n",
      "Epoch [5/5], Step [600/600], Loss: 0.9273\n"
     ]
    }
   ],
   "source": [
    "# Train the model\n",
    "total_step = len(train_loader) #equals to len(train_dataset.train_data)/batch_size=60000/100=600\n",
    "for epoch in range(num_epochs):\n",
    "    for i, (images, labels) in enumerate(train_loader):\n",
    "        # Reshape images to (batch_size, input_size)\n",
    "        images = images.reshape(-1, 28*28)\n",
    "        \n",
    "        # Forward pass\n",
    "        outputs = model(images)\n",
    "        # outputs.shape: torch.Size([100, 10]), labels.shape: torch.Size([100])\n",
    "        # outputs.type(): torch.FloatTensor, lables.type(): torch.LongTensor\n",
    "        loss = criterion(outputs, labels)\n",
    "        \n",
    "        # Backward and optimize\n",
    "        optimizer.zero_grad()\n",
    "        loss.backward()\n",
    "        optimizer.step()\n",
    "        \n",
    "        if (i+1) % 100 == 0:\n",
    "            print ('Epoch [{}/{}], Step [{}/{}], Loss: {:.4f}' \n",
    "                   .format(epoch+1, num_epochs, i+1, total_step, loss.item()))"
   ]
  },
  {
   "cell_type": "code",
   "execution_count": 7,
   "metadata": {},
   "outputs": [
    {
     "name": "stdout",
     "output_type": "stream",
     "text": [
      "Accuracy of the model on the 10000 test images: 83 %\n"
     ]
    }
   ],
   "source": [
    "# Test the model\n",
    "\"\"\"\n",
    "torch.no_grad:\n",
    "Context-manager that disabled gradient calculation\n",
    "In test phase, we don't need to compute gradients (for memory efficiency)\n",
    "\"\"\"\n",
    "with torch.no_grad():\n",
    "    correct = 0\n",
    "    total = 0\n",
    "    for images, labels in test_loader:\n",
    "        images = images.reshape(-1, 28*28)\n",
    "        outputs = model(images)\n",
    "        _, predicted = torch.max(outputs.data, 1) #max_value, max_index\n",
    "        total += labels.size(0) #get 0-th axis's size\n",
    "        correct += (predicted == labels).sum()\n",
    "\n",
    "    print('Accuracy of the model on the 10000 test images: {} %'.format(100 * correct / total))\n",
    "\n",
    "# Save the model checkpoint\n",
    "torch.save(model.state_dict(), 'model.ckpt')"
   ]
  },
  {
   "cell_type": "code",
   "execution_count": null,
   "metadata": {},
   "outputs": [],
   "source": []
  }
 ],
 "metadata": {
  "kernelspec": {
   "display_name": "Python 3",
   "language": "python",
   "name": "python3"
  },
  "language_info": {
   "codemirror_mode": {
    "name": "ipython",
    "version": 3
   },
   "file_extension": ".py",
   "mimetype": "text/x-python",
   "name": "python",
   "nbconvert_exporter": "python",
   "pygments_lexer": "ipython3",
   "version": "3.6.5"
  }
 },
 "nbformat": 4,
 "nbformat_minor": 2
}
